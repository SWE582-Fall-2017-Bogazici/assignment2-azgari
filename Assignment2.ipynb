{
 "cells": [
  {
   "cell_type": "code",
   "execution_count": 30,
   "metadata": {
    "collapsed": false
   },
   "outputs": [
    {
     "name": "stdout",
     "output_type": "stream",
     "text": [
      "0 : 2037681.02297\n",
      "10 : 13188587.1321\n",
      "20 : 10446360.5241\n",
      "30 : 549275.18948\n",
      "40 : 4000504.27555\n",
      "50 : 9993171.81188\n",
      "60 : 4529437.32302\n",
      "70 : 43392.0808625\n",
      "80 : 4770648.2622\n",
      "90 : 6410526.63094\n"
     ]
    }
   ],
   "source": [
    "%matplotlib inline\n",
    "import matplotlib.pylab as plt\n",
    "\n",
    "import time\n",
    "from IPython import display\n",
    "import numpy as np\n",
    "\n",
    "\n",
    "#y = np.array([7.46, 6.77, 12.74, 7.11, 7.81, 8.84, 6.08, 5.39, 8.15, 6.42, 5.73])\n",
    "y = np.array([8.04, 6.95, 7.58, 8.81, 8.33, 9.96, 7.24, 4.26, 10.84, 4.82, 5.68])\n",
    "#y = np.array([9.14, 8.14, 8.74, 8.77, 9.26, 8.10, 6.13, 3.10, 9.13, 7.26, 4.74])\n",
    "x = np.array([10., 8., 13., 9., 11., 14., 6., 4., 12., 7., 5.])\n",
    "N = len(x)\n",
    "\n",
    "# Design matrix\n",
    "A = np.vstack((np.ones(N), x, x*x, x**3)).T\n",
    "\n",
    "# Learning rate\n",
    "\n",
    "eta = 0.000001\n",
    "beta = 0.99  \n",
    "p = 0\n",
    "# initial parameters\n",
    "w = np.array([2., 1., 1., 1.])\n",
    "\n",
    "for epoch in range(100):\n",
    "    # Error\n",
    "    err = y-A.dot(w)\n",
    "    # Total error\n",
    "    \n",
    "    E = np.sum(err**2)/N\n",
    "\n",
    "\n",
    "    # Gradient\n",
    "    dE = -2.*A.T.dot(err)/N\n",
    "    p = dE + beta*p\n",
    "    \n",
    "    if epoch%10 == 0: \n",
    "        print(epoch,':',E)\n",
    "        # print(w)    \n",
    "\n",
    "    # Perfom one descent step\n",
    "    w = w - eta*p"
   ]
  },
  {
   "cell_type": "code",
   "execution_count": 34,
   "metadata": {
    "collapsed": false
   },
   "outputs": [],
   "source": [
    "def GradientDesc(eta, A ,w, y):\n",
    "    beta = 0.99  \n",
    "    p = 0\n",
    "    for epoch in range(1000):        \n",
    "        err = y-A.dot(w)    \n",
    "        E = np.sum(err**2)/N\n",
    "        dE = -2.*A.T.dot(err)/N\n",
    "        p = dE + beta*p\n",
    "        w = w - eta*p    \n",
    "    return E\n"
   ]
  },
  {
   "cell_type": "code",
   "execution_count": 41,
   "metadata": {
    "collapsed": false
   },
   "outputs": [
    {
     "name": "stdout",
     "output_type": "stream",
     "text": [
      "0 : E -  84.1826037949  eta -  5.5e-07\n",
      "5 : E -  6.04899619446  eta -  1.8301250000000004e-07\n",
      "10 : E -  72.1400760546  eta -  1.2582109375000004e-08\n",
      "15 : E -  33.9896336228  eta -  4.186696894531252e-09\n",
      "20 : E -  96.6892186163  eta -  3.064871461641604e-09\n",
      "25 : E -  70.4251658142  eta -  4.635618085732927e-10\n",
      "30 : E -  94.2933666629  eta -  3.39350421966079e-10\n",
      "35 : E -  105.697408101  eta -  5.132675132236945e-11\n",
      "40 : E -  73.7985202026  eta -  1.707897650251844e-11\n",
      "45 : E -  986776.280212  eta -  5.337180157037012e-13\n",
      "50 : E -  1373282.30037  eta -  1.6678687990740664e-14\n",
      "55 : E -  1387314.64031  eta -  5.212089997106457e-16\n",
      "60 : E -  1387755.24065  eta -  1.628778124095768e-17\n",
      "65 : E -  1387769.01146  eta -  5.089931637799275e-19\n",
      "70 : E -  1387769.4418  eta -  1.5906036368122734e-20\n",
      "75 : E -  1387769.45524  eta -  4.970636365038354e-22\n",
      "80 : E -  1387769.45567  eta -  1.5533238640744857e-23\n",
      "85 : E -  1387769.45568  eta -  4.854137075232768e-25\n",
      "90 : E -  1387769.45568  eta -  1.51691783601024e-26\n",
      "95 : E -  1387769.45568  eta -  4.740368237532e-28\n",
      "Optimum eta:  1.8301250000000004e-07 Minimum E:  1.38918143692\n"
     ]
    }
   ],
   "source": [
    "eta = 0.000001\n",
    "\n",
    "Eprev = GradientDesc(eta, A ,w, y)\n",
    "eta = eta *1.1    \n",
    "Epost = GradientDesc(eta, A ,w, y)\n",
    "opt_eta = eta \n",
    "min_E = 0\n",
    "for i in range(100):\n",
    "    if Eprev <= Epost:\n",
    "        eta = eta / 2\n",
    "    else:\n",
    "        eta = eta *1.1 \n",
    "        if min_E > Epost or min_E == 0: \n",
    "            opt_eta = eta\n",
    "            min_E = Epost\n",
    "    Eprev = Epost\n",
    "    Epost = GradientDesc(eta, A ,w, y)\n",
    "    if i % 5 == 0: \n",
    "        print(i,': E - ',Epost, \" eta - \", eta)\n",
    "    \n",
    "print (\"Optimum eta: \", opt_eta, \"Minimum E: \", min_E)\n",
    "\n",
    "\n",
    "\n",
    "\n",
    "  "
   ]
  },
  {
   "cell_type": "code",
   "execution_count": null,
   "metadata": {
    "collapsed": true
   },
   "outputs": [],
   "source": [
    " "
   ]
  }
 ],
 "metadata": {
  "kernelspec": {
   "display_name": "Python 3",
   "language": "python",
   "name": "python3"
  },
  "language_info": {
   "codemirror_mode": {
    "name": "ipython",
    "version": 3
   },
   "file_extension": ".py",
   "mimetype": "text/x-python",
   "name": "python",
   "nbconvert_exporter": "python",
   "pygments_lexer": "ipython3",
   "version": "3.6.0"
  }
 },
 "nbformat": 4,
 "nbformat_minor": 2
}
