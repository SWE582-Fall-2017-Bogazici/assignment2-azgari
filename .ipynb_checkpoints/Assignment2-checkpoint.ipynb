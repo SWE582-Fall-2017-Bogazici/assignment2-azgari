{
 "cells": [
  {
   "cell_type": "code",
   "execution_count": 84,
   "metadata": {
    "collapsed": false
   },
   "outputs": [
    {
     "name": "stdout",
     "output_type": "stream",
     "text": [
      "0 : 2037681.02297\n",
      "10 : 2008899.30787\n",
      "20 : 1713723.299\n",
      "30 : 1253596.72478\n",
      "40 : 756941.581981\n",
      "50 : 340443.192295\n",
      "60 : 80475.1784415\n",
      "70 : 287.944017365\n",
      "80 : 73438.4544925\n",
      "90 : 239605.385131\n"
     ]
    }
   ],
   "source": [
    "%matplotlib inline\n",
    "import matplotlib.pylab as plt\n",
    "\n",
    "import time\n",
    "from IPython import display\n",
    "import numpy as np\n",
    "\n",
    "\n",
    "#y = np.array([7.46, 6.77, 12.74, 7.11, 7.81, 8.84, 6.08, 5.39, 8.15, 6.42, 5.73])\n",
    "y = np.array([8.04, 6.95, 7.58, 8.81, 8.33, 9.96, 7.24, 4.26, 10.84, 4.82, 5.68])\n",
    "#y = np.array([9.14, 8.14, 8.74, 8.77, 9.26, 8.10, 6.13, 3.10, 9.13, 7.26, 4.74])\n",
    "x = np.array([10., 8., 13., 9., 11., 14., 6., 4., 12., 7., 5.])\n",
    "N = len(x)\n",
    "\n",
    "# Design matrix\n",
    "A = np.vstack((np.ones(N), x, x*x, x**3)).T\n",
    "\n",
    "# Learning rate\n",
    "\n",
    "eta = 0.0000001\n",
    "beta = 0.99  \n",
    "p = 0\n",
    "# initial parameters\n",
    "w = np.array([2., 1., 1., 1.])\n",
    "\n",
    "for epoch in range(100):\n",
    "    # Error\n",
    "    err = y-A.dot(w)\n",
    "    # Total error\n",
    "    \n",
    "    E = np.sum(err**2)/N\n",
    "\n",
    "\n",
    "    # Gradient\n",
    "    dE = -2.*A.T.dot(err)/N\n",
    "    p = dE + beta*p\n",
    "    \n",
    "    if epoch%10 == 0: \n",
    "        print(epoch,':',E)\n",
    "        # print(w)    \n",
    "\n",
    "    # Perfom one descent step\n",
    "    w = w - eta*p"
   ]
  },
  {
   "cell_type": "code",
   "execution_count": 85,
   "metadata": {
    "collapsed": false
   },
   "outputs": [],
   "source": [
    "def GradientDesc(eta, A ,w, y):\n",
    "    beta = 0.99  \n",
    "    p = 0        \n",
    "    err = y-A.dot(w)    \n",
    "    E = np.sum(err**2)/N\n",
    "    dE = -2.*A.T.dot(err)/N\n",
    "    p = dE + beta*p\n",
    "    w = w - eta*p    \n",
    "    return w\n"
   ]
  },
  {
   "cell_type": "code",
   "execution_count": 88,
   "metadata": {
    "collapsed": false
   },
   "outputs": [
    {
     "name": "stdout",
     "output_type": "stream",
     "text": [
      "9999 : E -  1.17515921165  eta -  6.305918185685071e-07\n",
      "Optimum eta:  6.305918185685071e-07 Minimum E:  1.17515922266  -- \n"
     ]
    }
   ],
   "source": [
    "eta = 0.000165\n",
    "\n",
    "w = GradientDesc(eta, A ,w, y)\n",
    "err = y-A.dot(w)    \n",
    "Eprev = np.sum(err**2)/N\n",
    "eta = eta *1.1    \n",
    "w = GradientDesc(eta, A ,w, y)\n",
    "err = y-A.dot(w)  \n",
    "Epost = np.sum(err**2)/N\n",
    "opt_eta = eta \n",
    "min_E = 0\n",
    "for i in range(10000):\n",
    "    if Eprev <= Epost:\n",
    "        eta = eta / 2\n",
    "    else:\n",
    "        eta = eta *1.1 \n",
    "    if min_E > Epost or min_E == 0: \n",
    "            opt_eta = eta\n",
    "            min_E = Epost     \n",
    "    Eprev = Epost\n",
    "    w = GradientDesc(eta, A ,w, y)\n",
    "    err = y-A.dot(w)  \n",
    "    Epost = np.sum(err**2)/N\n",
    "    if i % 500 == 0: \n",
    "        print(i,': E - ',Epost, \" eta - \", eta)\n",
    "    \n",
    "print (\"Optimum eta: \", opt_eta, \"Minimum E: \", min_E)\n",
    "\n",
    "\n",
    "\n",
    "\n",
    "  "
   ]
  },
  {
   "cell_type": "code",
   "execution_count": null,
   "metadata": {
    "collapsed": true
   },
   "outputs": [],
   "source": [
    " "
   ]
  },
  {
   "cell_type": "code",
   "execution_count": null,
   "metadata": {
    "collapsed": true
   },
   "outputs": [],
   "source": []
  }
 ],
 "metadata": {
  "kernelspec": {
   "display_name": "Python 3",
   "language": "python",
   "name": "python3"
  },
  "language_info": {
   "codemirror_mode": {
    "name": "ipython",
    "version": 3
   },
   "file_extension": ".py",
   "mimetype": "text/x-python",
   "name": "python",
   "nbconvert_exporter": "python",
   "pygments_lexer": "ipython3",
   "version": "3.6.0"
  }
 },
 "nbformat": 4,
 "nbformat_minor": 2
}
